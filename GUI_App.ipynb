{
  "nbformat": 4,
  "nbformat_minor": 0,
  "metadata": {
    "colab": {
      "name": "GUI App.ipynb",
      "provenance": []
    },
    "kernelspec": {
      "name": "python3",
      "display_name": "Python 3"
    }
  },
  "cells": [
    {
      "cell_type": "code",
      "metadata": {
        "colab": {
          "base_uri": "https://localhost:8080/"
        },
        "id": "Ym3iCDSTS-iY",
        "outputId": "9ed7c8e1-8919-4871-ff4f-fb6d8f495bd3"
      },
      "source": [
        "#@title String fields\r\n",
        "\r\n",
        "text = 'values' #@param {type:\"string\"}\r\n",
        "dropdown = '1st option' #@param [\"1st option\", \"2nd option\", \"3rd option\"]\r\n",
        "text_and_dropdown = '2nd option' #@param [\"1st option\", \"2nd option\", \"3rd option\"] {allow-input: true}\r\n",
        "\r\n",
        "print(text)\r\n",
        "print(dropdown)\r\n",
        "print(text_and_dropdown)"
      ],
      "execution_count": 6,
      "outputs": [
        {
          "output_type": "stream",
          "text": [
            "valuesmy\n",
            "1st option\n",
            "2nd option\n"
          ],
          "name": "stdout"
        }
      ]
    },
    {
      "cell_type": "code",
      "metadata": {
        "id": "QRSnnGD1TdA6"
      },
      "source": [
        "#@title Raw fields\r\n",
        "\r\n",
        "raw_input = None #@param {type:\"raw\"}\r\n",
        "raw_dropdown = raw_input #@param [1, \"raw_input\", \"False\", \"'string'\"] {type:\"raw\"}\r\n",
        "\r\n",
        "print(raw_input)\r\n",
        "print(raw_dropdown)"
      ],
      "execution_count": null,
      "outputs": []
    },
    {
      "cell_type": "code",
      "metadata": {
        "id": "4U90oI3vTdRx"
      },
      "source": [
        "#@title Date fields\r\n",
        "date_input = '2018-03-22' #@param {type:\"date\"}\r\n",
        "\r\n",
        "print(date_input)"
      ],
      "execution_count": null,
      "outputs": []
    },
    {
      "cell_type": "code",
      "metadata": {
        "colab": {
          "base_uri": "https://localhost:8080/"
        },
        "id": "oLWhq2y3TdTG",
        "outputId": "36c47bd5-7a7d-469d-bf8f-edc48f19179c"
      },
      "source": [
        "#@title Number fields\r\n",
        "number_input = 10.0 #@param {type:\"number\"}\r\n",
        "number_slider = 0 #@param {type:\"slider\", min:-1, max:1, step:0.1}\r\n",
        "\r\n",
        "integer_input = 10 #@param {type:\"integer\"}\r\n",
        "integer_slider = 3 #@param {type:\"slider\", min:0, max:100, step:1}\r\n",
        "\r\n",
        "print(number_input)\r\n",
        "print(number_slider)\r\n",
        "\r\n",
        "print(integer_input)\r\n",
        "print(integer_slider)"
      ],
      "execution_count": 9,
      "outputs": [
        {
          "output_type": "stream",
          "text": [
            "10.0\n",
            "0\n",
            "10\n",
            "3\n"
          ],
          "name": "stdout"
        }
      ]
    },
    {
      "cell_type": "code",
      "metadata": {
        "colab": {
          "base_uri": "https://localhost:8080/"
        },
        "id": "VpOAUrnATdYG",
        "outputId": "c247c640-e075-43b0-85e7-9ab54a1940b0"
      },
      "source": [
        "#@title Boolean fields\r\n",
        "boolean_checkbox = False #@param {type:\"boolean\"}\r\n",
        "boolean_dropdown = True #@param [\"False\", \"True\"] {type:\"raw\"}\r\n",
        "\r\n",
        "print(boolean_checkbox)\r\n",
        "print(boolean_dropdown)"
      ],
      "execution_count": 12,
      "outputs": [
        {
          "output_type": "stream",
          "text": [
            "False\n",
            "True\n"
          ],
          "name": "stdout"
        }
      ]
    },
    {
      "cell_type": "code",
      "metadata": {
        "id": "4VYMCUqoTdZe"
      },
      "source": [
        "#@title After running this cell manually, it will auto-run if you change the selected value. { run: \"auto\" }\r\n",
        "\r\n",
        "option2 = \"A\" #@param [\"A\", \"B\", \"C\"]\r\n",
        "print('You selected', option2)"
      ],
      "execution_count": null,
      "outputs": []
    },
    {
      "cell_type": "code",
      "metadata": {
        "id": "mooxDOn_Tdd3"
      },
      "source": [
        ""
      ],
      "execution_count": null,
      "outputs": []
    },
    {
      "cell_type": "code",
      "metadata": {
        "id": "x4HX24DaTdfd"
      },
      "source": [
        ""
      ],
      "execution_count": null,
      "outputs": []
    },
    {
      "cell_type": "code",
      "metadata": {
        "id": "e_ecXDnVTdjq"
      },
      "source": [
        ""
      ],
      "execution_count": null,
      "outputs": []
    },
    {
      "cell_type": "code",
      "metadata": {
        "id": "7WZwKIzmTdlM"
      },
      "source": [
        ""
      ],
      "execution_count": null,
      "outputs": []
    },
    {
      "cell_type": "code",
      "metadata": {
        "id": "miSNZ6LBTdpj"
      },
      "source": [
        ""
      ],
      "execution_count": null,
      "outputs": []
    },
    {
      "cell_type": "code",
      "metadata": {
        "id": "ZAdUzlzQTdr7"
      },
      "source": [
        ""
      ],
      "execution_count": null,
      "outputs": []
    }
  ]
}